{
 "cells": [
  {
   "cell_type": "markdown",
   "id": "fd6f0bb8-ade6-4cf3-9ca6-38ff4365cead",
   "metadata": {},
   "source": [
    "# pandas-plotly\n",
    "\n",
    "A simple, unified interface for pandas & plotly for data wrangling, vizualization & report generating.\n",
    "\n",
    "## Example"
   ]
  },
  {
   "cell_type": "code",
   "execution_count": null,
   "id": "1849cbfd-22d5-4bb4-95b9-b0e0afdfbcc4",
   "metadata": {},
   "outputs": [],
   "source": [
    "from scripts import GET\n",
    "(\n",
    "    GET(r'https://raw.githubusercontent.com/IBM/employee-attrition-aif360/master/data/emp_attrition.csv')\n",
    ")"
   ]
  }
 ],
 "metadata": {
  "kernelspec": {
   "display_name": "Python 3 (ipykernel)",
   "language": "python",
   "name": "python3"
  },
  "language_info": {
   "codemirror_mode": {
    "name": "ipython",
    "version": 3
   },
   "file_extension": ".py",
   "mimetype": "text/x-python",
   "name": "python",
   "nbconvert_exporter": "python",
   "pygments_lexer": "ipython3",
   "version": "3.8.12"
  }
 },
 "nbformat": 4,
 "nbformat_minor": 5
}
