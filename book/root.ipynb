{
 "cells": [
  {
   "cell_type": "markdown",
   "id": "fd6f0bb8-ade6-4cf3-9ca6-38ff4365cead",
   "metadata": {},
   "source": [
    "# Pandas Plotly\n",
    "\n",
    "A simple wrapper for data wrangling & vizualization\n",
    "\n",
    "## Contribute\n",
    "\n",
    "Pandas Plotly is open-source. Feel free to use as you like (with attribution!).\n",
    "When you do, you will no doubt find holes, gaps and shortcomings; pls add to the GitHub issue list to improve for all. \n",
    "\n",
    "## Contents\n",
    "```{tableofcontents}\n",
    "```"
   ]
  },
  {
   "cell_type": "markdown",
   "id": "47f9819d-1019-4a30-b6e0-b3d7d917fd4a",
   "metadata": {},
   "source": []
  }
 ],
 "metadata": {
  "kernelspec": {
   "display_name": "Python 3 (ipykernel)",
   "language": "python",
   "name": "python3"
  },
  "language_info": {
   "codemirror_mode": {
    "name": "ipython",
    "version": 3
   },
   "file_extension": ".py",
   "mimetype": "text/x-python",
   "name": "python",
   "nbconvert_exporter": "python",
   "pygments_lexer": "ipython3",
   "version": "3.8.12"
  }
 },
 "nbformat": 4,
 "nbformat_minor": 5
}
